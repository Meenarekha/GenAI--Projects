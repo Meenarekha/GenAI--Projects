{
  "nbformat": 4,
  "nbformat_minor": 0,
  "metadata": {
    "colab": {
      "provenance": []
    },
    "kernelspec": {
      "name": "python3",
      "display_name": "Python 3"
    },
    "language_info": {
      "name": "python"
    }
  },
  "cells": [
    {
      "cell_type": "code",
      "execution_count": null,
      "metadata": {
        "colab": {
          "base_uri": "https://localhost:8080/"
        },
        "id": "bYl9f_iU7lML",
        "outputId": "878a41f8-94a1-485e-d246-407e3c253913"
      },
      "outputs": [
        {
          "output_type": "stream",
          "name": "stdout",
          "text": [
            " Hello there! How can I help you today? Feel free to ask me anything you'd like to know, I'll do my best to assist you. If you have a specific question or topic in mind, that would be great. If not, I can provide information on a wide range of subjects, such as technology, science, art, history, literature, and more. Let's get started! What would you like to know?\n"
          ]
        }
      ],
      "source": [
        "import openai\n",
        "\n",
        "# Create OpenAI client for OpenRouter\n",
        "client = openai.OpenAI(\n",
        "    api_key=\"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\",  # Replace with your actual OpenRouter API key\n",
        "    base_url=\"https://openrouter.ai/api/v1\"\n",
        ")\n",
        "\n",
        "# Make a request\n",
        "response = client.chat.completions.create(\n",
        "    model=\"mistralai/mistral-7b-instruct\",  # Try a different model if GPT-4 isn't working\n",
        "    messages=[{\"role\": \"user\", \"content\": \"Hello!\"}]\n",
        ")\n",
        "\n",
        "# Print the response\n",
        "print(response.choices[0].message.content)\n"
      ]
    },
    {
      "cell_type": "markdown",
      "source": [
        "Chatbot\n"
      ],
      "metadata": {
        "id": "rB-SSicqFs9z"
      }
    },
    {
      "cell_type": "code",
      "source": [
        "import openai\n",
        "\n",
        "# Create OpenAI client for OpenRouter\n",
        "client = openai.OpenAI(\n",
        "    api_key=\"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\",\n",
        "    base_url=\"https://openrouter.ai/api/v1\"\n",
        ")\n",
        "\n",
        "# Chat loop\n",
        "print(\"Chatbot ready! Type 'exit' to stop.\")\n",
        "conversation = []\n",
        "\n",
        "while True:\n",
        "    user_input = input(\"You: \")\n",
        "    if user_input.lower() == \"exit\":\n",
        "        print(\"Goodbye!\")\n",
        "        break\n",
        "\n",
        "    conversation.append({\"role\": \"user\", \"content\": user_input})\n",
        "\n",
        "    response = client.chat.completions.create(\n",
        "        model=\"mistralai/mistral-7b-instruct\",\n",
        "        messages=conversation\n",
        "    )\n",
        "\n",
        "    ai_reply = response.choices[0].message.content\n",
        "    print(\"AI:\", ai_reply)\n",
        "\n",
        "    conversation.append({\"role\": \"assistant\", \"content\": ai_reply})\n"
      ],
      "metadata": {
        "colab": {
          "base_uri": "https://localhost:8080/"
        },
        "id": "X1PUt1SH85I5",
        "outputId": "659f9ffe-4b5e-446b-a8d3-de16d34a3004"
      },
      "execution_count": null,
      "outputs": [
        {
          "output_type": "stream",
          "name": "stdout",
          "text": [
            "Chatbot ready! Type 'exit' to stop.\n",
            "You: hello\n",
            "AI:  Hello there! How may I assist you today? If you have any questions or need help with something, feel free to ask. I'm here to help! If you just want to chat, that's great too! What's new with you?\n",
            "You: can you tell small story\n",
            "AI:  Of course! Here's a short story for you:\n",
            "\n",
            "Once upon a time, in a small village nestled between the mountains and the sea, there lived a kind and hardworking farmer named Tom. Tom spent his days tending to his fields, working tirelessly to ensure a good harvest for himself and his family.\n",
            "\n",
            "One day, as Tom was working in the field, he noticed a tiny bird that had fallen from its nest. The bird was injured and couldn't fly. Tom's heart went out to the poor creature and he carefully picked it up and brought it home.\n",
            "\n",
            "He made a little nest for the bird in a box and fed it tiny pieces of bread soaked in milk. Days went by, and the bird slowly regained its strength. Tom grew very fond of the little bird and named it Chirpy.\n",
            "\n",
            "One day, as Tom was walking Chirpy around the house, he overheard his wife speaking to a neighbor about their sizeable debt to the local moneylender. Tom rushed over and asked what was wrong. His wife explained that they had been unable to pay off their debt and the moneylender was demanding even more interest.\n",
            "\n",
            "Tom thought hard about what to do, and then he had an idea. He remembered how Chirpy would often chirp and flutter its wings as if to fly. Tom went to the village square and proclaimed that he was going to hold a contest to see who could fly highest. The villagers gathered, curious to see what Tom was up to.\n",
            "\n",
            "Tom let Chirpy out of its box and held it up high above his head. The little bird chirped loudly and fluttered its wings. Tom then announced that whoever could come up with the most creative solution to help him and his wife pay off their debt would receive Chirpy as a prize.\n",
            "\n",
            "The villagers thought it was just a silly game at first, but soon they came up with all sorts of creative ideas. Some offered to work for free, others offered to share their own debts, and some even offered money and goods.\n",
            "\n",
            "In the end, a kind old woman named Martha suggested that they put on a lion dance to collect donations from the villagers. The villagers loved the idea, and Tom and Martha organized the dance, which was a huge success. Tom and his wife were able to pay off their debt, and the whole village celebrated.\n",
            "\n",
            "And that's the story of Tom, the kind farmer who saved his village by using a tiny bird to bring them all together. The end.\n",
            "You: thank you\n",
            "AI:  You're welcome! I'm glad you enjoyed the story. If you have any other questions, don't hesitate to ask. I'm here to help! Have a great day! 😄\n",
            "You: exit\n",
            "Goodbye!\n"
          ]
        }
      ]
    },
    {
      "cell_type": "markdown",
      "source": [
        "News Summarizer"
      ],
      "metadata": {
        "id": "KB2nURqWIv7J"
      }
    },
    {
      "cell_type": "code",
      "source": [
        "pip install langchain openai requests beautifulsoup4\n"
      ],
      "metadata": {
        "colab": {
          "base_uri": "https://localhost:8080/"
        },
        "id": "ibpCC2QiILAL",
        "outputId": "b4ffc3f4-55a5-4a11-fbd7-2c1fc8debfc8"
      },
      "execution_count": null,
      "outputs": [
        {
          "output_type": "stream",
          "name": "stdout",
          "text": [
            "Requirement already satisfied: langchain in /usr/local/lib/python3.11/dist-packages (0.3.21)\n",
            "Requirement already satisfied: openai in /usr/local/lib/python3.11/dist-packages (1.68.2)\n",
            "Requirement already satisfied: requests in /usr/local/lib/python3.11/dist-packages (2.32.3)\n",
            "Requirement already satisfied: beautifulsoup4 in /usr/local/lib/python3.11/dist-packages (4.13.3)\n",
            "Requirement already satisfied: langchain-core<1.0.0,>=0.3.45 in /usr/local/lib/python3.11/dist-packages (from langchain) (0.3.47)\n",
            "Requirement already satisfied: langchain-text-splitters<1.0.0,>=0.3.7 in /usr/local/lib/python3.11/dist-packages (from langchain) (0.3.7)\n",
            "Requirement already satisfied: langsmith<0.4,>=0.1.17 in /usr/local/lib/python3.11/dist-packages (from langchain) (0.3.18)\n",
            "Requirement already satisfied: pydantic<3.0.0,>=2.7.4 in /usr/local/lib/python3.11/dist-packages (from langchain) (2.10.6)\n",
            "Requirement already satisfied: SQLAlchemy<3,>=1.4 in /usr/local/lib/python3.11/dist-packages (from langchain) (2.0.39)\n",
            "Requirement already satisfied: PyYAML>=5.3 in /usr/local/lib/python3.11/dist-packages (from langchain) (6.0.2)\n",
            "Requirement already satisfied: anyio<5,>=3.5.0 in /usr/local/lib/python3.11/dist-packages (from openai) (4.9.0)\n",
            "Requirement already satisfied: distro<2,>=1.7.0 in /usr/local/lib/python3.11/dist-packages (from openai) (1.9.0)\n",
            "Requirement already satisfied: httpx<1,>=0.23.0 in /usr/local/lib/python3.11/dist-packages (from openai) (0.28.1)\n",
            "Requirement already satisfied: jiter<1,>=0.4.0 in /usr/local/lib/python3.11/dist-packages (from openai) (0.9.0)\n",
            "Requirement already satisfied: sniffio in /usr/local/lib/python3.11/dist-packages (from openai) (1.3.1)\n",
            "Requirement already satisfied: tqdm>4 in /usr/local/lib/python3.11/dist-packages (from openai) (4.67.1)\n",
            "Requirement already satisfied: typing-extensions<5,>=4.11 in /usr/local/lib/python3.11/dist-packages (from openai) (4.12.2)\n",
            "Requirement already satisfied: charset-normalizer<4,>=2 in /usr/local/lib/python3.11/dist-packages (from requests) (3.4.1)\n",
            "Requirement already satisfied: idna<4,>=2.5 in /usr/local/lib/python3.11/dist-packages (from requests) (3.10)\n",
            "Requirement already satisfied: urllib3<3,>=1.21.1 in /usr/local/lib/python3.11/dist-packages (from requests) (2.3.0)\n",
            "Requirement already satisfied: certifi>=2017.4.17 in /usr/local/lib/python3.11/dist-packages (from requests) (2025.1.31)\n",
            "Requirement already satisfied: soupsieve>1.2 in /usr/local/lib/python3.11/dist-packages (from beautifulsoup4) (2.6)\n",
            "Requirement already satisfied: httpcore==1.* in /usr/local/lib/python3.11/dist-packages (from httpx<1,>=0.23.0->openai) (1.0.7)\n",
            "Requirement already satisfied: h11<0.15,>=0.13 in /usr/local/lib/python3.11/dist-packages (from httpcore==1.*->httpx<1,>=0.23.0->openai) (0.14.0)\n",
            "Requirement already satisfied: tenacity!=8.4.0,<10.0.0,>=8.1.0 in /usr/local/lib/python3.11/dist-packages (from langchain-core<1.0.0,>=0.3.45->langchain) (9.0.0)\n",
            "Requirement already satisfied: jsonpatch<2.0,>=1.33 in /usr/local/lib/python3.11/dist-packages (from langchain-core<1.0.0,>=0.3.45->langchain) (1.33)\n",
            "Requirement already satisfied: packaging<25,>=23.2 in /usr/local/lib/python3.11/dist-packages (from langchain-core<1.0.0,>=0.3.45->langchain) (24.2)\n",
            "Requirement already satisfied: orjson<4.0.0,>=3.9.14 in /usr/local/lib/python3.11/dist-packages (from langsmith<0.4,>=0.1.17->langchain) (3.10.15)\n",
            "Requirement already satisfied: requests-toolbelt<2.0.0,>=1.0.0 in /usr/local/lib/python3.11/dist-packages (from langsmith<0.4,>=0.1.17->langchain) (1.0.0)\n",
            "Requirement already satisfied: zstandard<0.24.0,>=0.23.0 in /usr/local/lib/python3.11/dist-packages (from langsmith<0.4,>=0.1.17->langchain) (0.23.0)\n",
            "Requirement already satisfied: annotated-types>=0.6.0 in /usr/local/lib/python3.11/dist-packages (from pydantic<3.0.0,>=2.7.4->langchain) (0.7.0)\n",
            "Requirement already satisfied: pydantic-core==2.27.2 in /usr/local/lib/python3.11/dist-packages (from pydantic<3.0.0,>=2.7.4->langchain) (2.27.2)\n",
            "Requirement already satisfied: greenlet!=0.4.17 in /usr/local/lib/python3.11/dist-packages (from SQLAlchemy<3,>=1.4->langchain) (3.1.1)\n",
            "Requirement already satisfied: jsonpointer>=1.9 in /usr/local/lib/python3.11/dist-packages (from jsonpatch<2.0,>=1.33->langchain-core<1.0.0,>=0.3.45->langchain) (3.0.0)\n"
          ]
        }
      ]
    },
    {
      "cell_type": "code",
      "source": [
        "pip install --upgrade langchain langchain-community\n"
      ],
      "metadata": {
        "colab": {
          "base_uri": "https://localhost:8080/"
        },
        "id": "WAuV5ikeKMrB",
        "outputId": "58bb8b13-eee3-4775-fb98-61071e2062f9"
      },
      "execution_count": null,
      "outputs": [
        {
          "output_type": "stream",
          "name": "stdout",
          "text": [
            "Requirement already satisfied: langchain in /usr/local/lib/python3.11/dist-packages (0.3.21)\n",
            "Collecting langchain-community\n",
            "  Downloading langchain_community-0.3.20-py3-none-any.whl.metadata (2.4 kB)\n",
            "Requirement already satisfied: langchain-core<1.0.0,>=0.3.45 in /usr/local/lib/python3.11/dist-packages (from langchain) (0.3.47)\n",
            "Requirement already satisfied: langchain-text-splitters<1.0.0,>=0.3.7 in /usr/local/lib/python3.11/dist-packages (from langchain) (0.3.7)\n",
            "Requirement already satisfied: langsmith<0.4,>=0.1.17 in /usr/local/lib/python3.11/dist-packages (from langchain) (0.3.18)\n",
            "Requirement already satisfied: pydantic<3.0.0,>=2.7.4 in /usr/local/lib/python3.11/dist-packages (from langchain) (2.10.6)\n",
            "Requirement already satisfied: SQLAlchemy<3,>=1.4 in /usr/local/lib/python3.11/dist-packages (from langchain) (2.0.39)\n",
            "Requirement already satisfied: requests<3,>=2 in /usr/local/lib/python3.11/dist-packages (from langchain) (2.32.3)\n",
            "Requirement already satisfied: PyYAML>=5.3 in /usr/local/lib/python3.11/dist-packages (from langchain) (6.0.2)\n",
            "Requirement already satisfied: aiohttp<4.0.0,>=3.8.3 in /usr/local/lib/python3.11/dist-packages (from langchain-community) (3.11.14)\n",
            "Requirement already satisfied: tenacity!=8.4.0,<10,>=8.1.0 in /usr/local/lib/python3.11/dist-packages (from langchain-community) (9.0.0)\n",
            "Collecting dataclasses-json<0.7,>=0.5.7 (from langchain-community)\n",
            "  Downloading dataclasses_json-0.6.7-py3-none-any.whl.metadata (25 kB)\n",
            "Collecting pydantic-settings<3.0.0,>=2.4.0 (from langchain-community)\n",
            "  Downloading pydantic_settings-2.8.1-py3-none-any.whl.metadata (3.5 kB)\n",
            "Collecting httpx-sse<1.0.0,>=0.4.0 (from langchain-community)\n",
            "  Downloading httpx_sse-0.4.0-py3-none-any.whl.metadata (9.0 kB)\n",
            "Requirement already satisfied: numpy<3,>=1.26.2 in /usr/local/lib/python3.11/dist-packages (from langchain-community) (2.0.2)\n",
            "Requirement already satisfied: aiohappyeyeballs>=2.3.0 in /usr/local/lib/python3.11/dist-packages (from aiohttp<4.0.0,>=3.8.3->langchain-community) (2.6.1)\n",
            "Requirement already satisfied: aiosignal>=1.1.2 in /usr/local/lib/python3.11/dist-packages (from aiohttp<4.0.0,>=3.8.3->langchain-community) (1.3.2)\n",
            "Requirement already satisfied: attrs>=17.3.0 in /usr/local/lib/python3.11/dist-packages (from aiohttp<4.0.0,>=3.8.3->langchain-community) (25.3.0)\n",
            "Requirement already satisfied: frozenlist>=1.1.1 in /usr/local/lib/python3.11/dist-packages (from aiohttp<4.0.0,>=3.8.3->langchain-community) (1.5.0)\n",
            "Requirement already satisfied: multidict<7.0,>=4.5 in /usr/local/lib/python3.11/dist-packages (from aiohttp<4.0.0,>=3.8.3->langchain-community) (6.2.0)\n",
            "Requirement already satisfied: propcache>=0.2.0 in /usr/local/lib/python3.11/dist-packages (from aiohttp<4.0.0,>=3.8.3->langchain-community) (0.3.0)\n",
            "Requirement already satisfied: yarl<2.0,>=1.17.0 in /usr/local/lib/python3.11/dist-packages (from aiohttp<4.0.0,>=3.8.3->langchain-community) (1.18.3)\n",
            "Collecting marshmallow<4.0.0,>=3.18.0 (from dataclasses-json<0.7,>=0.5.7->langchain-community)\n",
            "  Downloading marshmallow-3.26.1-py3-none-any.whl.metadata (7.3 kB)\n",
            "Collecting typing-inspect<1,>=0.4.0 (from dataclasses-json<0.7,>=0.5.7->langchain-community)\n",
            "  Downloading typing_inspect-0.9.0-py3-none-any.whl.metadata (1.5 kB)\n",
            "Requirement already satisfied: jsonpatch<2.0,>=1.33 in /usr/local/lib/python3.11/dist-packages (from langchain-core<1.0.0,>=0.3.45->langchain) (1.33)\n",
            "Requirement already satisfied: packaging<25,>=23.2 in /usr/local/lib/python3.11/dist-packages (from langchain-core<1.0.0,>=0.3.45->langchain) (24.2)\n",
            "Requirement already satisfied: typing-extensions>=4.7 in /usr/local/lib/python3.11/dist-packages (from langchain-core<1.0.0,>=0.3.45->langchain) (4.12.2)\n",
            "Requirement already satisfied: httpx<1,>=0.23.0 in /usr/local/lib/python3.11/dist-packages (from langsmith<0.4,>=0.1.17->langchain) (0.28.1)\n",
            "Requirement already satisfied: orjson<4.0.0,>=3.9.14 in /usr/local/lib/python3.11/dist-packages (from langsmith<0.4,>=0.1.17->langchain) (3.10.15)\n",
            "Requirement already satisfied: requests-toolbelt<2.0.0,>=1.0.0 in /usr/local/lib/python3.11/dist-packages (from langsmith<0.4,>=0.1.17->langchain) (1.0.0)\n",
            "Requirement already satisfied: zstandard<0.24.0,>=0.23.0 in /usr/local/lib/python3.11/dist-packages (from langsmith<0.4,>=0.1.17->langchain) (0.23.0)\n",
            "Requirement already satisfied: annotated-types>=0.6.0 in /usr/local/lib/python3.11/dist-packages (from pydantic<3.0.0,>=2.7.4->langchain) (0.7.0)\n",
            "Requirement already satisfied: pydantic-core==2.27.2 in /usr/local/lib/python3.11/dist-packages (from pydantic<3.0.0,>=2.7.4->langchain) (2.27.2)\n",
            "Collecting python-dotenv>=0.21.0 (from pydantic-settings<3.0.0,>=2.4.0->langchain-community)\n",
            "  Downloading python_dotenv-1.1.0-py3-none-any.whl.metadata (24 kB)\n",
            "Requirement already satisfied: charset-normalizer<4,>=2 in /usr/local/lib/python3.11/dist-packages (from requests<3,>=2->langchain) (3.4.1)\n",
            "Requirement already satisfied: idna<4,>=2.5 in /usr/local/lib/python3.11/dist-packages (from requests<3,>=2->langchain) (3.10)\n",
            "Requirement already satisfied: urllib3<3,>=1.21.1 in /usr/local/lib/python3.11/dist-packages (from requests<3,>=2->langchain) (2.3.0)\n",
            "Requirement already satisfied: certifi>=2017.4.17 in /usr/local/lib/python3.11/dist-packages (from requests<3,>=2->langchain) (2025.1.31)\n",
            "Requirement already satisfied: greenlet!=0.4.17 in /usr/local/lib/python3.11/dist-packages (from SQLAlchemy<3,>=1.4->langchain) (3.1.1)\n",
            "Requirement already satisfied: anyio in /usr/local/lib/python3.11/dist-packages (from httpx<1,>=0.23.0->langsmith<0.4,>=0.1.17->langchain) (4.9.0)\n",
            "Requirement already satisfied: httpcore==1.* in /usr/local/lib/python3.11/dist-packages (from httpx<1,>=0.23.0->langsmith<0.4,>=0.1.17->langchain) (1.0.7)\n",
            "Requirement already satisfied: h11<0.15,>=0.13 in /usr/local/lib/python3.11/dist-packages (from httpcore==1.*->httpx<1,>=0.23.0->langsmith<0.4,>=0.1.17->langchain) (0.14.0)\n",
            "Requirement already satisfied: jsonpointer>=1.9 in /usr/local/lib/python3.11/dist-packages (from jsonpatch<2.0,>=1.33->langchain-core<1.0.0,>=0.3.45->langchain) (3.0.0)\n",
            "Collecting mypy-extensions>=0.3.0 (from typing-inspect<1,>=0.4.0->dataclasses-json<0.7,>=0.5.7->langchain-community)\n",
            "  Downloading mypy_extensions-1.0.0-py3-none-any.whl.metadata (1.1 kB)\n",
            "Requirement already satisfied: sniffio>=1.1 in /usr/local/lib/python3.11/dist-packages (from anyio->httpx<1,>=0.23.0->langsmith<0.4,>=0.1.17->langchain) (1.3.1)\n",
            "Downloading langchain_community-0.3.20-py3-none-any.whl (2.5 MB)\n",
            "\u001b[2K   \u001b[90m━━━━━━━━━━━━━━━━━━━━━━━━━━━━━━━━━━━━━━━━\u001b[0m \u001b[32m2.5/2.5 MB\u001b[0m \u001b[31m20.7 MB/s\u001b[0m eta \u001b[36m0:00:00\u001b[0m\n",
            "\u001b[?25hDownloading dataclasses_json-0.6.7-py3-none-any.whl (28 kB)\n",
            "Downloading httpx_sse-0.4.0-py3-none-any.whl (7.8 kB)\n",
            "Downloading pydantic_settings-2.8.1-py3-none-any.whl (30 kB)\n",
            "Downloading marshmallow-3.26.1-py3-none-any.whl (50 kB)\n",
            "\u001b[2K   \u001b[90m━━━━━━━━━━━━━━━━━━━━━━━━━━━━━━━━━━━━━━━━\u001b[0m \u001b[32m50.9/50.9 kB\u001b[0m \u001b[31m3.3 MB/s\u001b[0m eta \u001b[36m0:00:00\u001b[0m\n",
            "\u001b[?25hDownloading python_dotenv-1.1.0-py3-none-any.whl (20 kB)\n",
            "Downloading typing_inspect-0.9.0-py3-none-any.whl (8.8 kB)\n",
            "Downloading mypy_extensions-1.0.0-py3-none-any.whl (4.7 kB)\n",
            "Installing collected packages: python-dotenv, mypy-extensions, marshmallow, httpx-sse, typing-inspect, pydantic-settings, dataclasses-json, langchain-community\n",
            "Successfully installed dataclasses-json-0.6.7 httpx-sse-0.4.0 langchain-community-0.3.20 marshmallow-3.26.1 mypy-extensions-1.0.0 pydantic-settings-2.8.1 python-dotenv-1.1.0 typing-inspect-0.9.0\n"
          ]
        }
      ]
    },
    {
      "cell_type": "code",
      "source": [
        "\n",
        "import openai\n",
        "import requests\n",
        "from bs4 import BeautifulSoup\n",
        "\n",
        "# Set up OpenRouter API\n",
        "api_key = \"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\"\n",
        "base_url = \"https://openrouter.ai/api/v1\"\n",
        "\n",
        "# Fetch news article from a website\n",
        "def fetch_news(url):\n",
        "    headers = {\"User-Agent\": \"Mozilla/5.0\"}\n",
        "    response = requests.get(url, headers=headers)\n",
        "    if response.status_code == 200:\n",
        "        soup = BeautifulSoup(response.text, \"html.parser\")\n",
        "        paragraphs = soup.find_all(\"p\")\n",
        "        article_text = \" \".join([p.get_text() for p in paragraphs])\n",
        "        return article_text[:4000]  # Truncate to fit token limits\n",
        "    return None\n",
        "\n",
        "# Summarization function using OpenRouter API directly\n",
        "def summarize_news(article_text):\n",
        "    headers = {\n",
        "        \"Authorization\": f\"Bearer {api_key}\",\n",
        "        \"Content-Type\": \"application/json\"\n",
        "    }\n",
        "\n",
        "    data = {\n",
        "        \"model\": \"mistralai/mistral-7b-instruct\",  # Try \"gpt-4\" for better summaries\n",
        "        \"messages\": [{\n",
        "            \"role\": \"user\",\n",
        "            \"content\": f\"Summarize this news article in **5 sentences** with key details:\\n\\n{article_text}\"\n",
        "        }]\n",
        "    }\n",
        "\n",
        "    response = requests.post(f\"{base_url}/chat/completions\", headers=headers, json=data)\n",
        "\n",
        "    if response.status_code == 200:\n",
        "        summary = response.json()[\"choices\"][0][\"message\"][\"content\"]\n",
        "        # Format the summary into separate lines\n",
        "        return \"\\n\".join(summary.split(\". \"))\n",
        "    else:\n",
        "        return f\"Error: {response.json()}\"\n",
        "\n",
        "# Example usage\n",
        "news_url = \"https://www.thehindu.com\"\n",
        "article = fetch_news(news_url)\n",
        "\n",
        "if article:\n",
        "    summary = summarize_news(article)\n",
        "    print(\"\\n=== News Summary ===\\n\", summary)\n",
        "else:\n",
        "    print(\"Failed to fetch news article.\")\n",
        "\n"
      ],
      "metadata": {
        "colab": {
          "base_uri": "https://localhost:8080/"
        },
        "id": "SWfzMZiNJs3p",
        "outputId": "e2dbec26-c715-4885-a28f-25c0d3666df5"
      },
      "execution_count": null,
      "outputs": [
        {
          "output_type": "stream",
          "name": "stdout",
          "text": [
            "\n",
            "=== News Summary ===\n",
            "  This edition of The Hindu includes a variety of sections:\n",
            "\n",
            "1\n",
            "Books of the week, reviews, new titles, and features are presented.\n",
            "2\n",
            "The section 'Data Point' offers fact-based analysis on headlines.\n",
            "3\n",
            "'First Day First Show' provides news and reviews from the cinema and streaming world.\n",
            "4\n",
            "In 'Health Matters', Ramya Kannan offers insights on maintaining good health.\n",
            "5\n",
            "'The View From India' provides an Indian perspective on world affairs\n",
            "'Science For All' simplifies science news and adds fun\n",
            "'Karnataka Today' and 'Today's Cache' offer news highlights from Karnataka and the top 5 technology stories of the day, respectively\n",
            "The paper is published by THG Publishing PVT LTD\n",
            "and is copyrighted.\n"
          ]
        }
      ]
    },
    {
      "cell_type": "markdown",
      "source": [
        "Resume Analyser"
      ],
      "metadata": {
        "id": "vI4kFM4PNbX2"
      }
    },
    {
      "cell_type": "code",
      "source": [
        "!pip install pymupdf"
      ],
      "metadata": {
        "colab": {
          "base_uri": "https://localhost:8080/"
        },
        "id": "Hr3j_GgbOEBX",
        "outputId": "3b391b8d-6f9c-4cd2-a118-dc5ae03838b8"
      },
      "execution_count": null,
      "outputs": [
        {
          "output_type": "stream",
          "name": "stdout",
          "text": [
            "Collecting pymupdf\n",
            "  Downloading pymupdf-1.25.4-cp39-abi3-manylinux2014_x86_64.manylinux_2_17_x86_64.whl.metadata (3.4 kB)\n",
            "Downloading pymupdf-1.25.4-cp39-abi3-manylinux2014_x86_64.manylinux_2_17_x86_64.whl (20.0 MB)\n",
            "\u001b[2K   \u001b[90m━━━━━━━━━━━━━━━━━━━━━━━━━━━━━━━━━━━━━━━━\u001b[0m \u001b[32m20.0/20.0 MB\u001b[0m \u001b[31m45.8 MB/s\u001b[0m eta \u001b[36m0:00:00\u001b[0m\n",
            "\u001b[?25hInstalling collected packages: pymupdf\n",
            "Successfully installed pymupdf-1.25.4\n"
          ]
        }
      ]
    },
    {
      "cell_type": "code",
      "source": [
        "!pip install python-docx"
      ],
      "metadata": {
        "colab": {
          "base_uri": "https://localhost:8080/"
        },
        "id": "JhU9Q-fdPATU",
        "outputId": "b5849752-d218-4ead-8185-b79d17eee16e"
      },
      "execution_count": null,
      "outputs": [
        {
          "output_type": "stream",
          "name": "stdout",
          "text": [
            "Collecting python-docx\n",
            "  Downloading python_docx-1.1.2-py3-none-any.whl.metadata (2.0 kB)\n",
            "Requirement already satisfied: lxml>=3.1.0 in /usr/local/lib/python3.11/dist-packages (from python-docx) (5.3.1)\n",
            "Requirement already satisfied: typing-extensions>=4.9.0 in /usr/local/lib/python3.11/dist-packages (from python-docx) (4.12.2)\n",
            "Downloading python_docx-1.1.2-py3-none-any.whl (244 kB)\n",
            "\u001b[?25l   \u001b[90m━━━━━━━━━━━━━━━━━━━━━━━━━━━━━━━━━━━━━━━━\u001b[0m \u001b[32m0.0/244.3 kB\u001b[0m \u001b[31m?\u001b[0m eta \u001b[36m-:--:--\u001b[0m\r\u001b[2K   \u001b[90m━━━━━━━━━━━━━━━━━━━━━━━━━━━━━━━━━━━━━━━━\u001b[0m \u001b[32m244.3/244.3 kB\u001b[0m \u001b[31m8.2 MB/s\u001b[0m eta \u001b[36m0:00:00\u001b[0m\n",
            "\u001b[?25hInstalling collected packages: python-docx\n",
            "Successfully installed python-docx-1.1.2\n"
          ]
        }
      ]
    },
    {
      "cell_type": "code",
      "source": [
        "import fitz  # PyMuPDF for PDFs\n",
        "from docx import Document  # For Word files\n",
        "import os\n",
        "import requests\n",
        "\n",
        "# OpenRouter API setup\n",
        "api_key = \"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\"\n",
        "base_url = \"https://openrouter.ai/api/v1\"\n",
        "\n",
        "# Function to extract text from a PDF\n",
        "def extract_text_from_pdf(pdf_path):\n",
        "    text = \"\"\n",
        "    with fitz.open(pdf_path) as doc:\n",
        "        for page in doc:\n",
        "            text += page.get_text(\"text\") + \"\\n\"\n",
        "    return text\n",
        "\n",
        "# Function to extract text from a Word document\n",
        "def extract_text_from_docx(docx_path):\n",
        "    doc = Document(docx_path)\n",
        "    text = \"\\n\".join([para.text for para in doc.paragraphs])\n",
        "    return text\n",
        "\n",
        "# Function to analyze resume using OpenRouter AI\n",
        "def analyze_resume(resume_text):\n",
        "    # Limit text to prevent exceeding model token limits\n",
        "    max_tokens = 4000\n",
        "    truncated_text = resume_text[:max_tokens]\n",
        "\n",
        "    headers = {\n",
        "        \"Authorization\": f\"Bearer {api_key}\",\n",
        "        \"Content-Type\": \"application/json\"\n",
        "    }\n",
        "\n",
        "    prompt = f\"\"\"\n",
        "    Analyze the following resume and provide:\n",
        "    1. Summary of candidate details (Name, Skills, Experience, Education)\n",
        "    2. Strengths of the resume\n",
        "    3. Areas for improvement (e.g., missing details, formatting issues)\n",
        "    4. Suggestions for better job fit\n",
        "\n",
        "    Resume:\n",
        "    {truncated_text}\n",
        "    \"\"\"\n",
        "\n",
        "    data = {\n",
        "        \"model\": \"mistralai/mistral-7b-instruct\",\n",
        "        \"messages\": [{\"role\": \"user\", \"content\": prompt}]\n",
        "    }\n",
        "\n",
        "    response = requests.post(f\"{base_url}/chat/completions\", headers=headers, json=data)\n",
        "\n",
        "    if response.status_code == 200:\n",
        "        return response.json()[\"choices\"][0][\"message\"][\"content\"]\n",
        "    else:\n",
        "        return f\"Error: {response.json()}\"\n",
        "\n",
        "# Main function to process resume\n",
        "def process_resume(file_path):\n",
        "    if not os.path.exists(file_path):\n",
        "        return \"Error: File not found.\"\n",
        "\n",
        "    ext = os.path.splitext(file_path)[-1].lower()\n",
        "    if ext == \".pdf\":\n",
        "        resume_text = extract_text_from_pdf(file_path)\n",
        "    elif ext == \".docx\":\n",
        "        resume_text = extract_text_from_docx(file_path)\n",
        "    else:\n",
        "        return \"Unsupported file format. Please upload a PDF or DOCX.\"\n",
        "\n",
        "    print(\"\\nAnalyzing Resume...\\n\")\n",
        "    analysis = analyze_resume(resume_text)\n",
        "    print(\"\\n=== Resume Analysis ===\\n\", analysis)\n",
        "\n",
        "# Interactive file selection\n",
        "if __name__ == \"__main__\":\n",
        "    file_path = input(\"Enter the full path of the resume file (PDF or DOCX): \").strip()\n",
        "    process_resume(file_path)\n"
      ],
      "metadata": {
        "colab": {
          "base_uri": "https://localhost:8080/"
        },
        "id": "ge06OJwZKbKv",
        "outputId": "01e185b5-1a6c-4510-f2cf-6b1719200a5d"
      },
      "execution_count": null,
      "outputs": [
        {
          "output_type": "stream",
          "name": "stdout",
          "text": [
            "Enter the full path of the resume file (PDF or DOCX): /content/resume_sample.pdf\n",
            "\n",
            "Analyzing Resume...\n",
            "\n",
            "\n",
            "=== Resume Analysis ===\n",
            "  1. Summary of candidate details:\n",
            "   - Name: Hayden Smith\n",
            "   - Address: 214 Mitre Avenue, Park Hill, 3045\n",
            "   - Mobile Number: 04501 123 456\n",
            "   - Email: haydensmith@email.com\n",
            "   - Career Objective: Seeking casual or part-time customer service work in a sports retail environment\n",
            "   - Availability: Monday – Friday: 4.30pm – 10.00pm, Saturday – Sunday: 8.00am – 11.00pm, up to 20 hours per week\n",
            "   - Key Skills: Customer service, numeracy, communication, teamwork, organization, problem-solving, soccer-related skills\n",
            "   - Education: Year 11 at Park Hill Secondary College, taking Maths, English, Business Management, VET studies in Sport and Recreation\n",
            "   - Work Experience: Customer service volunteer at Park Hill Soccer Club Canteen (Dec 2016 – Mar 2017), Newspaper deliverer at Argo Newsagency\n",
            "   - Leadership Roles: Soccer umpire for under 14 team at Park Hill Soccer Club (2016 – current), Assistant Coach for junior players at Park Hill Soccer Club (2017 – current)\n",
            "   - Interests/Hobbies: Playing soccer, being a spectator of soccer, football, and cricket\n",
            "\n",
            "2. Strengths of the resume:\n",
            "   - Hayden's soccer experience and knowledge make him a strong fit for a sports-related role.\n",
            "   - He has demonstrated experience in customer service, numeracy, communication, teamwork, organization, and problem-solving.\n",
            "   - His availability evenings and weekends would appeal to potential employers looking for flexible employees.\n",
            "   - The resume effectively highlights his relevant skills and experiences in a clear and concise manner.\n",
            "\n",
            "3. Areas for improvement:\n",
            "   - The resume could benefit from a professional-looking format, such as a traditional reverse-chronological structure.\n",
            "   - A concluding section for noteworthy achievements or qualifications, such as awards or relevant certifications, would be a good addition.\n",
            "   - It might be helpful to include a section featuring any relevant computer skills, as many roles today require competency in software programs like Microsoft Office or specific industry-related systems.\n",
            "   - Boosting work experience beyond just serving customers in a canteen would strengthen the application.\n",
            "\n",
            "4. Suggestions for better job fit:\n",
            "   - Hayden's skills, previous work, and leadership roles in soccer make him a strong candidate for customer service or retail positions within the sports industry, such as a sporting goods store or a sport team's ticket office.\n",
            "   - The resume indicates his enthusiasm for sports and strong communication skills, so he might also find success in roles such as event coordination or sports marketing within a sports organization.\n",
            "   - To further emphasize his qualifications for the roles discussed, Hayden should showcase any relevant computer skills he may have, as this would be valuable for the majority of the mentioned jobs. Additionally, highlighting any achievements, awards, or accomplishments he's earned in his educational or sporting pursuits could provide a unique selling point that sets him apart from other candidates.\n"
          ]
        }
      ]
    },
    {
      "cell_type": "markdown",
      "source": [
        "AI-Based Medical Diagnosis Assisstent\n"
      ],
      "metadata": {
        "id": "9F636FdvQ29x"
      }
    },
    {
      "cell_type": "code",
      "source": [
        "import requests\n",
        "\n",
        "# OpenRouter API setup\n",
        "api_key = \"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\"\n",
        "base_url = \"https://openrouter.ai/api/v1\"\n",
        "\n",
        "def get_medical_diagnosis(symptoms):\n",
        "    headers = {\n",
        "        \"Authorization\": f\"Bearer {api_key}\",\n",
        "        \"Content-Type\": \"application/json\"\n",
        "    }\n",
        "\n",
        "    prompt = f\"\"\"\n",
        "    You are an AI medical assistant. Analyze the following symptoms and provide:\n",
        "    1. Possible medical conditions\n",
        "    2. Recommended actions (e.g., rest, consult a doctor, emergency care)\n",
        "    3. Precautionary measures\n",
        "\n",
        "    Symptoms: {symptoms}\n",
        "    \"\"\"\n",
        "\n",
        "    data = {\n",
        "        \"model\": \"mistralai/mistral-7b-instruct\",\n",
        "        \"messages\": [{\"role\": \"user\", \"content\": prompt}]\n",
        "    }\n",
        "\n",
        "    response = requests.post(f\"{base_url}/chat/completions\", headers=headers, json=data)\n",
        "\n",
        "    if response.status_code == 200:\n",
        "        return response.json()[\"choices\"][0][\"message\"][\"content\"]\n",
        "    else:\n",
        "        return f\"Error: {response.json()}\"\n",
        "\n",
        "# Example usage\n",
        "user_symptoms = input(\"Enter your symptoms: \")\n",
        "diagnosis = get_medical_diagnosis(user_symptoms)\n",
        "print(\"\\n=== AI Diagnosis ===\\n\", diagnosis)\n"
      ],
      "metadata": {
        "id": "Y8ggFtZnPJAU",
        "colab": {
          "base_uri": "https://localhost:8080/"
        },
        "outputId": "8ccd445a-44df-4ae4-ca71-3aeb0bc3aa03"
      },
      "execution_count": null,
      "outputs": [
        {
          "output_type": "stream",
          "name": "stdout",
          "text": [
            "Enter your symptoms: cold\n",
            "\n",
            "=== AI Diagnosis ===\n",
            "  1. Possible medical conditions: The symptoms you've described (cold) are common and can be caused by various viruses, the most common of which is the common cold. Other possible causes could be influenza (flu) or allergies, particularly in the case of persistent or recurring symptoms.\n",
            "\n",
            "2. Recommended actions:\n",
            "   - Mild cold: Rest, stay hydrated, get plenty of sleep, and over-the-counter cold remedies can provide symptomatic relief. It's important to blow your nose gently.\n",
            "   - Severe cold or flu: If you have a high fever, persistent cough, or severe chest pain, shortness of breath, or severe headache, you should consult a healthcare provider as these could indicate more serious conditions.\n",
            "   - Allergies: Allergy symptoms can be managed with over-the-counter allergy medications, but a consultation with a healthcare provider may be necessary to confirm the cause and determine the best treatment.\n",
            "\n",
            "3. Precautionary measures:\n",
            "   - Wash hands frequently to reduce the risk of spreading or catching colds.\n",
            "   - Maintain a healthy diet and get enough sleep.\n",
            "   - Avoid close contact with those who are sick.\n",
            "   - Cover your mouth and nose when sneezing or coughing, and discard used tissues in a bin.\n",
            "   - Regular handwashing and sanitizing surfaces can help prevent the spread of viruses.\n"
          ]
        }
      ]
    },
    {
      "cell_type": "code",
      "source": [],
      "metadata": {
        "id": "SzIdUHP1TESt"
      },
      "execution_count": null,
      "outputs": []
    }
  ]
}